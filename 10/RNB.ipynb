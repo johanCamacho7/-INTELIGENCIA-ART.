{
 "cells": [
  {
   "cell_type": "code",
   "id": "initial_id",
   "metadata": {
    "collapsed": true,
    "ExecuteTime": {
     "end_time": "2025-06-01T10:04:53.410914Z",
     "start_time": "2025-06-01T10:04:50.378971Z"
    }
   },
   "source": [
    "import numpy as np\n",
    "from tensorflow.keras.models import Sequential\n",
    "from tensorflow.keras.layers import Dense\n"
   ],
   "outputs": [],
   "execution_count": 1
  },
  {
   "metadata": {
    "ExecuteTime": {
     "end_time": "2025-06-01T10:04:56.613548Z",
     "start_time": "2025-06-01T10:04:56.610213Z"
    }
   },
   "cell_type": "code",
   "source": [
    "# Crear números de entrada\n",
    "entrada = np.arange(10).reshape(-1, 1)\n",
    "\n",
    "# Etiqueta: el número es mayor o igual a 5\n",
    "salida = (entrada >= 5).astype(int)\n"
   ],
   "id": "e09f642e350f4004",
   "outputs": [],
   "execution_count": 2
  },
  {
   "metadata": {
    "ExecuteTime": {
     "end_time": "2025-06-01T10:04:58.997084Z",
     "start_time": "2025-06-01T10:04:58.898847Z"
    }
   },
   "cell_type": "code",
   "source": [
    "modelo = Sequential([\n",
    "    Dense(5, input_shape=(1,), activation='relu'),  # Capa oculta\n",
    "    Dense(1, activation='sigmoid')                  # Capa de salida\n",
    "])\n"
   ],
   "id": "7926034c058cd805",
   "outputs": [
    {
     "name": "stderr",
     "output_type": "stream",
     "text": [
      "C:\\Users\\POLVO\\AppData\\Local\\Programs\\Python\\Python312\\Lib\\site-packages\\keras\\src\\layers\\core\\dense.py:93: UserWarning: Do not pass an `input_shape`/`input_dim` argument to a layer. When using Sequential models, prefer using an `Input(shape)` object as the first layer in the model instead.\n",
      "  super().__init__(activity_regularizer=activity_regularizer, **kwargs)\n"
     ]
    }
   ],
   "execution_count": 3
  },
  {
   "metadata": {
    "ExecuteTime": {
     "end_time": "2025-06-01T10:05:01.534601Z",
     "start_time": "2025-06-01T10:05:01.525217Z"
    }
   },
   "cell_type": "code",
   "source": "modelo.compile(optimizer='adam', loss='binary_crossentropy', metrics=['accuracy'])\n",
   "id": "5f3b4da02efabf72",
   "outputs": [],
   "execution_count": 4
  },
  {
   "metadata": {
    "ExecuteTime": {
     "end_time": "2025-06-01T10:05:05.596223Z",
     "start_time": "2025-06-01T10:05:03.045199Z"
    }
   },
   "cell_type": "code",
   "source": "modelo.fit(entrada, salida, epochs=70, verbose=0)\n",
   "id": "3e86277775f90e91",
   "outputs": [
    {
     "data": {
      "text/plain": [
       "<keras.src.callbacks.history.History at 0x2760fca6ed0>"
      ]
     },
     "execution_count": 5,
     "metadata": {},
     "output_type": "execute_result"
    }
   ],
   "execution_count": 5
  },
  {
   "metadata": {
    "ExecuteTime": {
     "end_time": "2025-06-01T10:05:57.898091Z",
     "start_time": "2025-06-01T10:05:57.768864Z"
    }
   },
   "cell_type": "code",
   "source": [
    "prueba = np.array([[3], [5], [7]])\n",
    "resultados = modelo.predict(prueba)\n",
    "\n",
    "# Mostrar los resultados\n",
    "for num, prob in zip(prueba.flatten(), resultados.flatten()):\n",
    "    etiqueta = '>= 5' if prob > 0.5 else '< 5'\n",
    "    print(f\"{num} ES {etiqueta} (probabilidad: {prob:.2f})\")\n"
   ],
   "id": "71d1171ed8c51636",
   "outputs": [
    {
     "name": "stdout",
     "output_type": "stream",
     "text": [
      "\u001B[1m1/1\u001B[0m \u001B[32m━━━━━━━━━━━━━━━━━━━━\u001B[0m\u001B[37m\u001B[0m \u001B[1m0s\u001B[0m 55ms/step\n",
      "3 ES < 5 (probabilidad: 0.12)\n",
      "5 ES < 5 (probabilidad: 0.03)\n",
      "7 ES < 5 (probabilidad: 0.01)\n"
     ]
    }
   ],
   "execution_count": 10
  }
 ],
 "metadata": {
  "kernelspec": {
   "display_name": "Python 3",
   "language": "python",
   "name": "python3"
  },
  "language_info": {
   "codemirror_mode": {
    "name": "ipython",
    "version": 2
   },
   "file_extension": ".py",
   "mimetype": "text/x-python",
   "name": "python",
   "nbconvert_exporter": "python",
   "pygments_lexer": "ipython2",
   "version": "2.7.6"
  }
 },
 "nbformat": 4,
 "nbformat_minor": 5
}

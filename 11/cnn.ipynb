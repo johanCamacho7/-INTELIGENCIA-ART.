{
 "cells": [
  {
   "metadata": {},
   "cell_type": "markdown",
   "source": "Clasificación de imágenes con redes neuronales convolucionales (CNN)",
   "id": "de78abbef53b6022"
  },
  {
   "metadata": {
    "ExecuteTime": {
     "end_time": "2025-06-01T09:52:38.906405Z",
     "start_time": "2025-06-01T09:52:35.553141Z"
    }
   },
   "cell_type": "code",
   "source": [
    "import tensorflow as tf\n",
    "from tensorflow.keras.datasets import mnist\n",
    "from tensorflow.keras.models import Sequential\n",
    "from tensorflow.keras.layers import Conv2D, MaxPooling2D, Flatten, Dense\n",
    "from tensorflow.keras.utils import to_categorical\n",
    "import matplotlib.pyplot as plt\n",
    "import numpy as np\n"
   ],
   "id": "3a9d045b51d71433",
   "outputs": [],
   "execution_count": 1
  },
  {
   "metadata": {
    "ExecuteTime": {
     "end_time": "2025-06-01T09:53:56.612737Z",
     "start_time": "2025-06-01T09:53:56.269337Z"
    }
   },
   "cell_type": "code",
   "source": [
    "# Cargar datos\n",
    "(x_train, y_train), (x_test, y_test) = mnist.load_data()\n",
    "\n",
    "# Redimensionar a 28x28x1 (formato CNN) y normalizar\n",
    "x_train = x_train.reshape(-1, 28, 28, 1) / 255.0\n",
    "x_test = x_test.reshape(-1, 28, 28, 1) / 255.0\n",
    "\n",
    "# Codificación one-hot para etiquetas\n",
    "y_train_cat = to_categorical(y_train, 10)\n",
    "y_test_cat = to_categorical(y_test, 10)\n"
   ],
   "id": "e89e0c1d762049fb",
   "outputs": [],
   "execution_count": 2
  },
  {
   "metadata": {
    "ExecuteTime": {
     "end_time": "2025-06-01T09:54:00.170054Z",
     "start_time": "2025-06-01T09:54:00.066617Z"
    }
   },
   "cell_type": "code",
   "source": [
    "model = Sequential([\n",
    "    Conv2D(32, (3, 3), activation='relu', input_shape=(28, 28, 1)),\n",
    "    MaxPooling2D((2, 2)),\n",
    "    Flatten(),\n",
    "    Dense(64, activation='relu'),\n",
    "    Dense(10, activation='softmax')\n",
    "])\n"
   ],
   "id": "f3508e3d34233d80",
   "outputs": [
    {
     "name": "stderr",
     "output_type": "stream",
     "text": [
      "C:\\Users\\POLVO\\AppData\\Local\\Programs\\Python\\Python312\\Lib\\site-packages\\keras\\src\\layers\\convolutional\\base_conv.py:113: UserWarning: Do not pass an `input_shape`/`input_dim` argument to a layer. When using Sequential models, prefer using an `Input(shape)` object as the first layer in the model instead.\n",
      "  super().__init__(activity_regularizer=activity_regularizer, **kwargs)\n"
     ]
    }
   ],
   "execution_count": 3
  },
  {
   "metadata": {
    "ExecuteTime": {
     "end_time": "2025-06-01T09:54:38.643315Z",
     "start_time": "2025-06-01T09:54:05.381866Z"
    }
   },
   "cell_type": "code",
   "source": [
    "model.compile(optimizer='adam', loss='categorical_crossentropy', metrics=['accuracy'])\n",
    "\n",
    "# Entrenamiento\n",
    "model.fit(x_train, y_train_cat, epochs=5, batch_size=32, validation_split=0.1)\n"
   ],
   "id": "2b22167457870467",
   "outputs": [
    {
     "name": "stdout",
     "output_type": "stream",
     "text": [
      "Epoch 1/5\n",
      "\u001B[1m1688/1688\u001B[0m \u001B[32m━━━━━━━━━━━━━━━━━━━━\u001B[0m\u001B[37m\u001B[0m \u001B[1m7s\u001B[0m 4ms/step - accuracy: 0.8995 - loss: 0.3486 - val_accuracy: 0.9827 - val_loss: 0.0641\n",
      "Epoch 2/5\n",
      "\u001B[1m1688/1688\u001B[0m \u001B[32m━━━━━━━━━━━━━━━━━━━━\u001B[0m\u001B[37m\u001B[0m \u001B[1m6s\u001B[0m 4ms/step - accuracy: 0.9807 - loss: 0.0604 - val_accuracy: 0.9835 - val_loss: 0.0597\n",
      "Epoch 3/5\n",
      "\u001B[1m1688/1688\u001B[0m \u001B[32m━━━━━━━━━━━━━━━━━━━━\u001B[0m\u001B[37m\u001B[0m \u001B[1m7s\u001B[0m 4ms/step - accuracy: 0.9875 - loss: 0.0391 - val_accuracy: 0.9875 - val_loss: 0.0464\n",
      "Epoch 4/5\n",
      "\u001B[1m1688/1688\u001B[0m \u001B[32m━━━━━━━━━━━━━━━━━━━━\u001B[0m\u001B[37m\u001B[0m \u001B[1m6s\u001B[0m 4ms/step - accuracy: 0.9923 - loss: 0.0243 - val_accuracy: 0.9877 - val_loss: 0.0474\n",
      "Epoch 5/5\n",
      "\u001B[1m1688/1688\u001B[0m \u001B[32m━━━━━━━━━━━━━━━━━━━━\u001B[0m\u001B[37m\u001B[0m \u001B[1m7s\u001B[0m 4ms/step - accuracy: 0.9945 - loss: 0.0174 - val_accuracy: 0.9870 - val_loss: 0.0600\n"
     ]
    },
    {
     "data": {
      "text/plain": [
       "<keras.src.callbacks.history.History at 0x2a39d7dbf20>"
      ]
     },
     "execution_count": 4,
     "metadata": {},
     "output_type": "execute_result"
    }
   ],
   "execution_count": 4
  },
  {
   "metadata": {
    "ExecuteTime": {
     "end_time": "2025-06-01T09:54:49.956034Z",
     "start_time": "2025-06-01T09:54:49.185107Z"
    }
   },
   "cell_type": "code",
   "source": [
    "loss, acc = model.evaluate(x_test, y_test_cat)\n",
    "print(f\"\\nPrecisión en datos de prueba: {acc:.2f}\")\n"
   ],
   "id": "710afba5aebbad0b",
   "outputs": [
    {
     "name": "stdout",
     "output_type": "stream",
     "text": [
      "\u001B[1m313/313\u001B[0m \u001B[32m━━━━━━━━━━━━━━━━━━━━\u001B[0m\u001B[37m\u001B[0m \u001B[1m1s\u001B[0m 2ms/step - accuracy: 0.9803 - loss: 0.0691\n",
      "\n",
      "Precisión en datos de prueba: 0.99\n"
     ]
    }
   ],
   "execution_count": 5
  },
  {
   "metadata": {
    "ExecuteTime": {
     "end_time": "2025-06-01T09:54:55.894569Z",
     "start_time": "2025-06-01T09:54:55.701754Z"
    }
   },
   "cell_type": "code",
   "source": [
    "imagen = x_test[0]\n",
    "plt.imshow(imagen.squeeze(), cmap='gray')\n",
    "plt.title('Imagen de prueba')\n",
    "plt.axis('off')\n",
    "plt.show()\n",
    "\n",
    "# Predicción\n",
    "pred = model.predict(np.array([imagen]))\n",
    "print(\"Predicción:\", np.argmax(pred))\n",
    "print(\"Etiqueta real:\", y_test[0])\n"
   ],
   "id": "ba6a673b7bd4047c",
   "outputs": [
    {
     "data": {
      "text/plain": [
       "<Figure size 640x480 with 1 Axes>"
      ],
      "image/png": "[encoded data removed]"
     },
     "metadata": {},
     "output_type": "display_data"
    },
    {
     "name": "stdout",
     "output_type": "stream",
     "text": [
      "\u001B[1m1/1\u001B[0m \u001B[32m━━━━━━━━━━━━━━━━━━━━\u001B[0m\u001B[37m\u001B[0m \u001B[1m0s\u001B[0m 67ms/step\n",
      "Predicción: 7\n",
      "Etiqueta real: 7\n"
     ]
    }
   ],
   "execution_count": 6
  }
 ],
 "metadata": {
  "kernelspec": {
   "display_name": "Python 3",
   "language": "python",
   "name": "python3"
  },
  "language_info": {
   "codemirror_mode": {
    "name": "ipython",
    "version": 2
   },
   "file_extension": ".py",
   "mimetype": "text/x-python",
   "name": "python",
   "nbconvert_exporter": "python",
   "pygments_lexer": "ipython2",
   "version": "2.7.6"
  }
 },
 "nbformat": 4,
 "nbformat_minor": 5
}
